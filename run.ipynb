{
 "cells": [
  {
   "cell_type": "code",
   "execution_count": null,
   "metadata": {},
   "outputs": [],
   "source": [
    "from datasets import load_dataset\n",
    "\n",
    "wikipedia_dataset = load_dataset(\"wikipedia\", \"20220301.en\")['train']"
   ]
  },
  {
   "cell_type": "code",
   "execution_count": null,
   "metadata": {},
   "outputs": [],
   "source": [
    "wikipedia_dataset"
   ]
  },
  {
   "cell_type": "code",
   "execution_count": null,
   "metadata": {},
   "outputs": [],
   "source": [
    "# from claudegpt.data.datasets.wikipedia import WikipediaDataset"
   ]
  },
  {
   "cell_type": "code",
   "execution_count": null,
   "metadata": {},
   "outputs": [],
   "source": [
    "import re\n",
    "from datasets import load_dataset, DownloadConfig, concatenate_datasets\n",
    "from claudegpt.data.datasets.dataset import Dataset\n",
    "from claudegpt.settings import *\n",
    "\n",
    "class WikipediaDataset(Dataset):\n",
    "\n",
    "\tdef __init__(self) -> None:\n",
    "\n",
    "\t\tsuper().__init__()\n",
    "\n",
    "\t\tself.training_part = 'pretraining'\n",
    "\t\tself.name = 'wikipedia'\n",
    "\t\tself.multiplier = 4.0\n",
    "\n",
    "\t\tprint('Downloading Wikipedia dataset...')\n",
    "\n",
    "\t\twikipedia = load_dataset(\n",
    "\t\t\tpath = 'wikipedia',\n",
    "\t\t\tname='20220301.en',\n",
    "\t\t\tdownload_config = DownloadConfig(max_retries = 10)\n",
    "\t\t)[\"train\"]\n",
    "\n",
    "\t\twikipedia = wikipedia.map(\n",
    "\t\t\tlambda doc: {'text': self._clean_wikipedia(doc['text'])},\n",
    "\t\t\tdesc = 'Cleaning wikipedia',\n",
    "\t\t\tnum_proc = NUM_THREADS\n",
    "\t\t)\n",
    "\n",
    "\t\tself.dataset = self.dataset # .filter(lambda doc: len(str(doc['text']).strip()) >= MIN_DOCUMENT_SIZE)\n",
    "\t\tself.size['train'] = 0\n",
    "\n",
    "\t\tfor doc in self.dataset:\n",
    "\t\t\tself.size['train'] += len(str(doc['text']).strip())\n",
    "\n",
    "\t\tprint(f'Wikipedia dataset downloaded: {len(self.dataset):,} documents | {self.size[\"train\"]:,} characters')\n",
    "\n",
    "\n",
    "\tdef _clean_wikipedia(self, text: str) -> str:\n",
    "\n",
    "\t\ttext = text.replace(' ,', ',')\n",
    "\t\ttext = text.replace(' .', '.')\n",
    "\t\ttext = text.replace(' )', ')')\n",
    "\t\ttext = text.replace('( ', '(')\n",
    "\t\ttext = text.replace(' ]', ']')\n",
    "\t\ttext = text.replace('[ ', '[')\n",
    "\n",
    "\t\ttext = re.sub(r'(\\d)\\s*,\\s*(\\d)', r'\\1,\\2', text)\n",
    "\n",
    "\t\tarray = list(text)\n",
    "\t\tstart = True\n",
    "\n",
    "\t\tfor i in range(len(array)):\n",
    "\t\t\tif array[i] == '\"':\n",
    "\t\t\t\tarray[i] = '«' if start else '»'\n",
    "\t\t\t\tstart = not start\n",
    "\n",
    "\t\treturn ''.join(array)"
   ]
  },
  {
   "cell_type": "code",
   "execution_count": null,
   "metadata": {},
   "outputs": [],
   "source": [
    "WikipediaDataset()"
   ]
  },
  {
   "cell_type": "code",
   "execution_count": null,
   "metadata": {},
   "outputs": [],
   "source": []
  }
 ],
 "metadata": {
  "kernelspec": {
   "display_name": "lmenv",
   "language": "python",
   "name": "python3"
  },
  "language_info": {
   "codemirror_mode": {
    "name": "ipython",
    "version": 3
   },
   "file_extension": ".py",
   "mimetype": "text/x-python",
   "name": "python",
   "nbconvert_exporter": "python",
   "pygments_lexer": "ipython3",
   "version": "3.10.11"
  }
 },
 "nbformat": 4,
 "nbformat_minor": 2
}
